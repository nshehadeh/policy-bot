{
 "cells": [
  {
   "cell_type": "code",
   "execution_count": 1,
   "metadata": {},
   "outputs": [
    {
     "name": "stderr",
     "output_type": "stream",
     "text": [
      "/Users/nishanshehadeh/opt/anaconda3/envs/WTP/lib/python3.12/site-packages/pinecone/data/index.py:1: TqdmWarning: IProgress not found. Please update jupyter and ipywidgets. See https://ipywidgets.readthedocs.io/en/stable/user_install.html\n",
      "  from tqdm.autonotebook import tqdm\n"
     ]
    }
   ],
   "source": [
    "import getpass\n",
    "import os\n",
    "from langchain_openai import ChatOpenAI, OpenAIEmbeddings\n",
    "from langchain import hub\n",
    "from langchain_core.output_parsers import StrOutputParser\n",
    "from langchain_core.runnables import RunnablePassthrough\n",
    "from dotenv import load_dotenv\n",
    "load_dotenv()\n",
    "from langchain_pinecone import PineconeVectorStore\n",
    "from pprint import pprint\n",
    "from langchain.prompts import ChatPromptTemplate, MessagesPlaceholder\n",
    "from langchain.memory import ConversationSummaryBufferMemory\n",
    "from langchain.chains import create_retrieval_chain\n",
    "from langchain.chains.combine_documents import create_stuff_documents_chain\n",
    "\n",
    "\n",
    "\n"
   ]
  },
  {
   "cell_type": "code",
   "execution_count": 2,
   "metadata": {},
   "outputs": [],
   "source": [
    "os.environ[\"OPENAI_API_KEY\"] = os.getenv('OPENAI_API_KEY')\n",
    "os.environ[\"PINECONE_API_KEY\"] = os.getenv('PINECONE_API_KEY')\n",
    "\n",
    "llm = ChatOpenAI(model=\"gpt-4o\", streaming = True)"
   ]
  },
  {
   "cell_type": "code",
   "execution_count": 3,
   "metadata": {},
   "outputs": [],
   "source": [
    "from langchain_core.messages import AIMessage, HumanMessage\n"
   ]
  },
  {
   "cell_type": "code",
   "execution_count": 4,
   "metadata": {},
   "outputs": [],
   "source": [
    "index_name = \"langchain-index\"\n",
    "\n",
    "embeddings = OpenAIEmbeddings(model='text-embedding-3-small')\n",
    "vector_store = PineconeVectorStore(index_name=index_name, embedding=embeddings)"
   ]
  },
  {
   "cell_type": "code",
   "execution_count": 5,
   "metadata": {},
   "outputs": [],
   "source": [
    "retriever = vector_store.as_retriever(\n",
    "    search_type=\"similarity\",\n",
    "    search_kwargs={'k': 3}\n",
    "    )"
   ]
  },
  {
   "cell_type": "code",
   "execution_count": 6,
   "metadata": {},
   "outputs": [],
   "source": [
    "system_prompt = (\n",
    "    \"You are an assistant for question-answering tasks. \"\n",
    "    \"Use the following pieces of retrieved context to answer \"\n",
    "    \"the question. If you don't know the answer, say that you \"\n",
    "    \"don't know. Use three sentences maximum and keep the \"\n",
    "    \"answer concise. Give a one line summary of the context metadata used at the end of your answer\"\n",
    "    \"\\n\\n\"\n",
    "    \"{context}\"\n",
    ")\n",
    "\n",
    "prompt = ChatPromptTemplate.from_messages(\n",
    "    [\n",
    "        (\"system\", system_prompt),\n",
    "        MessagesPlaceholder(\"chat_history\"),\n",
    "        (\"human\", \"{input}\"),\n",
    "    ]\n",
    ")\n"
   ]
  },
  {
   "cell_type": "code",
   "execution_count": 7,
   "metadata": {},
   "outputs": [],
   "source": [
    "\n",
    "question_answer_chain = create_stuff_documents_chain(llm, prompt)\n",
    "#rag_chain = create_retrieval_chain(retriever, question_answer_chain)"
   ]
  },
  {
   "cell_type": "code",
   "execution_count": 8,
   "metadata": {},
   "outputs": [],
   "source": [
    "from langchain.chains import create_history_aware_retriever\n",
    "from langchain_core.prompts import MessagesPlaceholder\n",
    "\n",
    "contextualize_q_system_prompt = (\n",
    "    \"Given a chat history and the latest user question \"\n",
    "    \"which might reference context in the chat history, \"\n",
    "    \"formulate a standalone question which can be understood \"\n",
    "    \"without the chat history. Do NOT answer the question, \"\n",
    "    \"just reformulate it if needed and otherwise return it as is.\"\n",
    ")\n",
    "\n",
    "contextualize_q_prompt = ChatPromptTemplate.from_messages(\n",
    "    [\n",
    "        (\"system\", contextualize_q_system_prompt),\n",
    "        MessagesPlaceholder(\"chat_history\"),\n",
    "        (\"human\", \"{input}\"),\n",
    "    ]\n",
    ")\n",
    "history_aware_retriever = create_history_aware_retriever(\n",
    "    llm, retriever, contextualize_q_prompt\n",
    ")"
   ]
  },
  {
   "cell_type": "markdown",
   "metadata": {},
   "source": []
  },
  {
   "cell_type": "code",
   "execution_count": 9,
   "metadata": {},
   "outputs": [],
   "source": [
    "rag_chain = create_retrieval_chain(history_aware_retriever, question_answer_chain)"
   ]
  },
  {
   "cell_type": "code",
   "execution_count": 10,
   "metadata": {},
   "outputs": [
    {
     "name": "stdout",
     "output_type": "stream",
     "text": [
      "{'input': \"What are Joe Biden's tax policies?\", 'chat_history': []}\n",
      "{'context': [Document(metadata={'collection': 'whbriefingroom', 'database': 'WTP', 'id': '66a90048efac37d905d60148'}, page_content='deployment and production throughout the world. On the kind of specifics of those tasks forces, I’d — task force, I’d refer you to NSC. But just, you know, broadly, this is a key area of focus for us.MODERATOR: And with that, we will conclude our call. It is embargoed until 5:00 a.m. tomorrow. As mentioned at the top, the questions and answers were on background and are attributable to “senior administration officials.”Thank you. And tune in at 7:00 p.m. tomorrow — no, 9:00 p.m. Thank you.6:24 P.M. EST Title: Press Call by National Economic Advisor Lael Brainard and Senior Administration Officials Previewing President Biden’s State of the Union Address and Economic Agenda Date Posted: March 07, 2024 Category: Press Briefings'), Document(metadata={'collection': 'whbriefingroom', 'database': 'WTP', 'id': '66a90050efac37d905d61cd0'}, page_content='In addition, President Biden’s plan will extend all middle-class tax cuts; as the President has repeatedly promised, he will not raise taxes on anyone making less than $400,000 per year. He will fully pay for these extensions with additional reforms to make the wealthy and corporations pay their fair share, so that they do not add to the debt. And he opposes extending tax cuts or restoring tax breaks for those making more than $400,000 per year.The Congressional Republican Plan: Adding Trillions to Deficits With Tax Cuts Skewed to the Wealthy and Big CorporationsRepublicans are working to make all of former President Trump’s tax cuts permanent, adding more than $3 trillion to the debt over the next 10 years with unpaid-for tax cuts that are skewed to the wealthy and large corporations. On top of extending the Trump tax cuts for the wealthy and protecting tax cuts for big corporations, the Congressional Republican tax plan would:\\n\\n### Title: FACT SHEET: President Biden Is Fighting to Reduce the Deficit, Cut Taxes for Working Families, and Invest in America by Making Big Corporations and the Wealthy Pay Their Fair Share Date Posted: March 07, 2024 Category: Statements and Releases'), Document(metadata={'collection': 'whbriefingroom', 'database': 'WTP', 'id': '66a90045efac37d905d5f835'}, page_content='In addition, the President’s Budget explains his principles for addressing tax cuts expiring after 2025. The President would extend all middle-class tax cuts; as he has repeatedly promised, he will not raise taxes on anyone making less than $400,000 per year. And he will fully pay for these extensions with additional reforms to make the wealthy and corporations pay their fair share, so that they do not add to the debt. At the same time, he opposes tax cuts for the wealthy—either extending tax cuts for the top 2 percent of Americans earning more than $400,000 per year or bringing back deductions and other tax breaks for these households.\\n\\n### Title: FACT SHEET: The President’s Budget Cuts Taxes for Working Families and Makes Big Corporations and the Wealthy Pay Their Fair Share Date Posted: March 11, 2024 Category: Statements and Releases')]}\n",
      "{'answer': ''}\n",
      "{'answer': 'President'}\n",
      "{'answer': ' Joe'}\n",
      "{'answer': ' Biden'}\n",
      "{'answer': \"'s\"}\n",
      "{'answer': ' tax'}\n",
      "{'answer': ' policies'}\n",
      "{'answer': ' include'}\n",
      "{'answer': ' extending'}\n",
      "{'answer': ' all'}\n",
      "{'answer': ' middle'}\n",
      "{'answer': '-class'}\n",
      "{'answer': ' tax'}\n",
      "{'answer': ' cuts'}\n",
      "{'answer': ' and'}\n",
      "{'answer': ' not'}\n",
      "{'answer': ' raising'}\n",
      "{'answer': ' taxes'}\n",
      "{'answer': ' on'}\n",
      "{'answer': ' anyone'}\n",
      "{'answer': ' making'}\n",
      "{'answer': ' less'}\n",
      "{'answer': ' than'}\n",
      "{'answer': ' $'}\n",
      "{'answer': '400'}\n",
      "{'answer': ','}\n",
      "{'answer': '000'}\n",
      "{'answer': ' per'}\n",
      "{'answer': ' year'}\n",
      "{'answer': '.'}\n",
      "{'answer': ' He'}\n",
      "{'answer': ' plans'}\n",
      "{'answer': ' to'}\n",
      "{'answer': ' fund'}\n",
      "{'answer': ' these'}\n",
      "{'answer': ' extensions'}\n",
      "{'answer': ' through'}\n",
      "{'answer': ' reforms'}\n",
      "{'answer': ' that'}\n",
      "{'answer': ' ensure'}\n",
      "{'answer': ' the'}\n",
      "{'answer': ' wealthy'}\n",
      "{'answer': ' and'}\n",
      "{'answer': ' corporations'}\n",
      "{'answer': ' pay'}\n",
      "{'answer': ' their'}\n",
      "{'answer': ' fair'}\n",
      "{'answer': ' share'}\n",
      "{'answer': ','}\n",
      "{'answer': ' without'}\n",
      "{'answer': ' adding'}\n",
      "{'answer': ' to'}\n",
      "{'answer': ' the'}\n",
      "{'answer': ' national'}\n",
      "{'answer': ' debt'}\n",
      "{'answer': '.'}\n",
      "{'answer': ' Additionally'}\n",
      "{'answer': ','}\n",
      "{'answer': ' he'}\n",
      "{'answer': ' opp'}\n",
      "{'answer': 'oses'}\n",
      "{'answer': ' extending'}\n",
      "{'answer': ' tax'}\n",
      "{'answer': ' cuts'}\n",
      "{'answer': ' or'}\n",
      "{'answer': ' restoring'}\n",
      "{'answer': ' tax'}\n",
      "{'answer': ' breaks'}\n",
      "{'answer': ' for'}\n",
      "{'answer': ' individuals'}\n",
      "{'answer': ' making'}\n",
      "{'answer': ' more'}\n",
      "{'answer': ' than'}\n",
      "{'answer': ' $'}\n",
      "{'answer': '400'}\n",
      "{'answer': ','}\n",
      "{'answer': '000'}\n",
      "{'answer': ' per'}\n",
      "{'answer': ' year'}\n",
      "{'answer': '.\\n\\n'}\n",
      "{'answer': 'Summary'}\n",
      "{'answer': ':'}\n",
      "{'answer': ' Statements'}\n",
      "{'answer': ' and'}\n",
      "{'answer': ' Releases'}\n",
      "{'answer': ','}\n",
      "{'answer': ' March'}\n",
      "{'answer': ' '}\n",
      "{'answer': '202'}\n",
      "{'answer': '4'}\n",
      "{'answer': ''}\n"
     ]
    }
   ],
   "source": [
    "for chunk in rag_chain.stream({\"input\": \"What are Joe Biden's tax policies?\", \"chat_history\": []}):\n",
    "    print(chunk)"
   ]
  },
  {
   "cell_type": "code",
   "execution_count": 11,
   "metadata": {},
   "outputs": [],
   "source": [
    "from langchain_community.chat_message_histories import ChatMessageHistory\n",
    "from langchain_core.chat_history import BaseChatMessageHistory\n",
    "from langchain_core.runnables.history import RunnableWithMessageHistory\n"
   ]
  },
  {
   "cell_type": "code",
   "execution_count": 12,
   "metadata": {},
   "outputs": [],
   "source": [
    "# replace with postgresql\n",
    "# return memory object here\n",
    "# customize for user and chat ids\n",
    "store = {}\n",
    "def get_session_history(session_id: str) -> BaseChatMessageHistory:\n",
    "    if session_id not in store:\n",
    "        store[session_id] = ChatMessageHistory()\n",
    "    return store[session_id]\n",
    "\n",
    "conversational_rag_chain = RunnableWithMessageHistory(\n",
    "    rag_chain,\n",
    "    get_session_history,\n",
    "    input_messages_key=\"input\",\n",
    "    history_messages_key=\"chat_history\",\n",
    "    output_messages_key=\"answer\",\n",
    ")"
   ]
  },
  {
   "cell_type": "code",
   "execution_count": 16,
   "metadata": {},
   "outputs": [
    {
     "data": {
      "text/plain": [
       "\"Joe Biden's tax policies include extending all middle-class tax cuts while ensuring that no one making less than $400,000 per year will see a tax increase. He proposes to fund these extensions through reforms targeting the wealthy and corporations to ensure they pay their fair share, thus not adding to the debt. Additionally, he opposes extending tax cuts or restoring tax breaks for those making more than $400,000 per year.\\n\\n**Summary of context metadata:** Information derived from FACT SHEETS and Press Briefings related to President Biden's tax policies and economic agenda.\""
      ]
     },
     "execution_count": 16,
     "metadata": {},
     "output_type": "execute_result"
    }
   ],
   "source": [
    "conversational_rag_chain.invoke(\n",
    "    {\"input\": \"What are Joe Biden's tax policies?\"},\n",
    "    config={\n",
    "        \"configurable\": {\"session_id\": \"abc123\"}\n",
    "    },  # constructs a key \"abc123\" in `store`.\n",
    ")[\"answer\"]"
   ]
  },
  {
   "cell_type": "code",
   "execution_count": 14,
   "metadata": {},
   "outputs": [
    {
     "data": {
      "text/plain": [
       "'President Joe Biden plans to extend middle-class tax cuts and ensure no tax increases for those earning under $400,000 by implementing additional reforms that make the wealthy and corporations pay their fair share. He opposes tax cuts for the wealthiest 2 percent and refuses to reintroduce deductions and other tax breaks for households earning more than $400,000. These measures aim to prevent adding to the national debt.\\n\\nSummary of context: \"FACT SHEET: The President’s Budget Cuts Taxes for Working Families and Makes Big Corporations and the Wealthy Pay Their Fair Share\" from March 2024'"
      ]
     },
     "execution_count": 14,
     "metadata": {},
     "output_type": "execute_result"
    }
   ],
   "source": [
    "conversational_rag_chain.invoke(\n",
    "    {\"input\": \"How does he do that\"},\n",
    "    config={\"configurable\": {\"session_id\": \"abc123\"}},\n",
    ")[\"answer\"]"
   ]
  },
  {
   "cell_type": "code",
   "execution_count": 22,
   "metadata": {},
   "outputs": [
    {
     "name": "stderr",
     "output_type": "stream",
     "text": [
      "Error in RootListenersTracer.on_chain_end callback: KeyError('answer')\n",
      "Error in callback coroutine: KeyError('answer')\n"
     ]
    },
    {
     "name": "stdout",
     "output_type": "stream",
     "text": [
      "{'input': 'How does he do that', 'chat_history': [HumanMessage(content=\"What are Joe Biden's tax policies?\"), AIMessage(content=\"Joe Biden's tax policies include extending all middle-class tax cuts while ensuring that no one making less than $400,000 per year will see a tax increase. He proposes to fund these extensions through reforms targeting the wealthy and corporations to ensure they pay their fair share, thus not adding to the debt. Additionally, he opposes extending tax cuts or restoring tax breaks for those making more than $400,000 per year.\\n\\n**Summary of context metadata:** Information derived from FACT SHEETS and Press Briefings related to President Biden's tax policies and economic agenda.\"), HumanMessage(content='How does he do that'), AIMessage(content=\"President Biden plans to extend middle-class tax cuts and ensure no tax increases for individuals making less than $400,000 by implementing reforms that require the wealthy and corporations to pay their fair share. This involves not extending tax cuts for the wealthiest 2% and introducing additional measures to prevent these reforms from adding to the national debt. The objective is to balance tax relief for working families with fiscal responsibility through targeted taxation on higher income brackets and large corporations.\\n\\n**Summary of context metadata:** Information derived from FACT SHEETS and Press Briefings detailing President Biden's tax policies and economic strategy.\")]}\n",
      "{'context': [Document(metadata={'collection': 'whbriefingroom', 'database': 'WTP', 'id': '66a90050efac37d905d61cd0'}, page_content='In addition, President Biden’s plan will extend all middle-class tax cuts; as the President has repeatedly promised, he will not raise taxes on anyone making less than $400,000 per year. He will fully pay for these extensions with additional reforms to make the wealthy and corporations pay their fair share, so that they do not add to the debt. And he opposes extending tax cuts or restoring tax breaks for those making more than $400,000 per year.The Congressional Republican Plan: Adding Trillions to Deficits With Tax Cuts Skewed to the Wealthy and Big CorporationsRepublicans are working to make all of former President Trump’s tax cuts permanent, adding more than $3 trillion to the debt over the next 10 years with unpaid-for tax cuts that are skewed to the wealthy and large corporations. On top of extending the Trump tax cuts for the wealthy and protecting tax cuts for big corporations, the Congressional Republican tax plan would:\\n\\n### Title: FACT SHEET: President Biden Is Fighting to Reduce the Deficit, Cut Taxes for Working Families, and Invest in America by Making Big Corporations and the Wealthy Pay Their Fair Share Date Posted: March 07, 2024 Category: Statements and Releases'), Document(metadata={'collection': 'whbriefingroom', 'database': 'WTP', 'id': '66a90045efac37d905d5f835'}, page_content='In addition, the President’s Budget explains his principles for addressing tax cuts expiring after 2025. The President would extend all middle-class tax cuts; as he has repeatedly promised, he will not raise taxes on anyone making less than $400,000 per year. And he will fully pay for these extensions with additional reforms to make the wealthy and corporations pay their fair share, so that they do not add to the debt. At the same time, he opposes tax cuts for the wealthy—either extending tax cuts for the top 2 percent of Americans earning more than $400,000 per year or bringing back deductions and other tax breaks for these households.\\n\\n### Title: FACT SHEET: The President’s Budget Cuts Taxes for Working Families and Makes Big Corporations and the Wealthy Pay Their Fair Share Date Posted: March 11, 2024 Category: Statements and Releases'), Document(metadata={'collection': 'whbriefingroom', 'database': 'WTP', 'id': '66a908d4efac37d905f62afe'}, page_content='new industries, and new jobs. In short, this is an opportunity to be the nation we know we can be — a nation where all of us — all of us, not just those at the top — are getting a share of the benefits of a growing economy in the years ahead. Let’s not squander this moment trying to preserve an economy that hasn’t worked too well for Americans for a long time. Let’s not look backward, just trying to rebuild what we had. Let’s look forward, together, as one America — not to build back, but to build back better. Thank you all very much. And God bless you all. May God protect our troops. Thank you. 2:22 P.M. EDT Title: Remarks by President Biden on the Economy Date Posted: September 16, 2021 Category: Speeches and Remarks')]}\n",
      "{'answer': ''}\n",
      "{'answer': 'President'}\n",
      "{'answer': ' Biden'}\n",
      "{'answer': ' funds'}\n",
      "{'answer': ' middle'}\n",
      "{'answer': '-class'}\n",
      "{'answer': ' tax'}\n",
      "{'answer': ' cuts'}\n",
      "{'answer': ' and'}\n",
      "{'answer': ' prevents'}\n",
      "{'answer': ' tax'}\n",
      "{'answer': ' increases'}\n",
      "{'answer': ' for'}\n",
      "{'answer': ' those'}\n",
      "{'answer': ' earning'}\n",
      "{'answer': ' under'}\n",
      "{'answer': ' $'}\n",
      "{'answer': '400'}\n",
      "{'answer': ','}\n",
      "{'answer': '000'}\n",
      "{'answer': ' by'}\n",
      "{'answer': ' implementing'}\n",
      "{'answer': ' additional'}\n",
      "{'answer': ' tax'}\n",
      "{'answer': ' reforms'}\n",
      "{'answer': ' that'}\n",
      "{'answer': ' target'}\n",
      "{'answer': ' the'}\n",
      "{'answer': ' wealthy'}\n",
      "{'answer': ' and'}\n",
      "{'answer': ' corporations'}\n",
      "{'answer': '.'}\n",
      "{'answer': ' These'}\n",
      "{'answer': ' reforms'}\n",
      "{'answer': ' ensure'}\n",
      "{'answer': ' that'}\n",
      "{'answer': ' the'}\n",
      "{'answer': ' wealth'}\n",
      "{'answer': 'iest'}\n",
      "{'answer': ' Americans'}\n",
      "{'answer': ' and'}\n",
      "{'answer': ' big'}\n",
      "{'answer': ' corporations'}\n",
      "{'answer': ' pay'}\n",
      "{'answer': ' their'}\n",
      "{'answer': ' fair'}\n",
      "{'answer': ' share'}\n",
      "{'answer': ','}\n",
      "{'answer': ' which'}\n",
      "{'answer': ' offsets'}\n",
      "{'answer': ' the'}\n",
      "{'answer': ' cost'}\n",
      "{'answer': ' of'}\n",
      "{'answer': ' the'}\n",
      "{'answer': ' tax'}\n",
      "{'answer': ' cuts'}\n",
      "{'answer': ' and'}\n",
      "{'answer': ' prevents'}\n",
      "{'answer': ' additional'}\n",
      "{'answer': ' debt'}\n",
      "{'answer': '.'}\n",
      "{'answer': ' He'}\n",
      "{'answer': ' opp'}\n",
      "{'answer': 'oses'}\n",
      "{'answer': ' and'}\n",
      "{'answer': ' prevents'}\n",
      "{'answer': ' extending'}\n",
      "{'answer': ' tax'}\n",
      "{'answer': ' cuts'}\n",
      "{'answer': ' or'}\n",
      "{'answer': ' restoring'}\n",
      "{'answer': ' tax'}\n",
      "{'answer': ' breaks'}\n",
      "{'answer': ' for'}\n",
      "{'answer': ' those'}\n",
      "{'answer': ' earning'}\n",
      "{'answer': ' more'}\n",
      "{'answer': ' than'}\n",
      "{'answer': ' $'}\n",
      "{'answer': '400'}\n",
      "{'answer': ','}\n",
      "{'answer': '000'}\n",
      "{'answer': ' per'}\n",
      "{'answer': ' year'}\n",
      "{'answer': '.\\n\\n'}\n",
      "{'answer': '**'}\n",
      "{'answer': 'Summary'}\n",
      "{'answer': ' of'}\n",
      "{'answer': ' context'}\n",
      "{'answer': ' metadata'}\n",
      "{'answer': ':**'}\n",
      "{'answer': ' Information'}\n",
      "{'answer': ' derived'}\n",
      "{'answer': ' from'}\n",
      "{'answer': ' FACT'}\n",
      "{'answer': ' SHE'}\n",
      "{'answer': 'ETS'}\n",
      "{'answer': ' on'}\n",
      "{'answer': ' President'}\n",
      "{'answer': ' Biden'}\n",
      "{'answer': \"'s\"}\n",
      "{'answer': ' tax'}\n",
      "{'answer': ' policies'}\n",
      "{'answer': ' and'}\n",
      "{'answer': ' principles'}\n",
      "{'answer': ' for'}\n",
      "{'answer': ' budget'}\n",
      "{'answer': ' planning'}\n",
      "{'answer': '.'}\n",
      "{'answer': ''}\n"
     ]
    }
   ],
   "source": [
    "for chunk in conversational_rag_chain.stream({\"input\": \"How does he do that\"},\n",
    "    config={\"configurable\": {\"session_id\": \"abc123\"}}):\n",
    "    print(chunk)\n",
    "    \n",
    "    \n",
    "    "
   ]
  },
  {
   "cell_type": "code",
   "execution_count": null,
   "metadata": {},
   "outputs": [],
   "source": [
    "#memory = ConversationSummaryBufferMemory(llm = llm, max_token_limit=200)\n"
   ]
  }
 ],
 "metadata": {
  "kernelspec": {
   "display_name": "WTP",
   "language": "python",
   "name": "python3"
  },
  "language_info": {
   "codemirror_mode": {
    "name": "ipython",
    "version": 3
   },
   "file_extension": ".py",
   "mimetype": "text/x-python",
   "name": "python",
   "nbconvert_exporter": "python",
   "pygments_lexer": "ipython3",
   "version": "3.12.4"
  }
 },
 "nbformat": 4,
 "nbformat_minor": 2
}
