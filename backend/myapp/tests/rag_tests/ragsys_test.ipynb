{
 "cells": [
  {
   "cell_type": "code",
   "execution_count": 1,
   "metadata": {},
   "outputs": [],
   "source": [
    "# Import necessary libraries and load environment variables\n",
    "import os\n",
    "import sys\n",
    "from dotenv import load_dotenv\n"
   ]
  },
  {
   "cell_type": "code",
   "execution_count": 2,
   "metadata": {},
   "outputs": [],
   "source": [
    "# dir\n",
    "sys.path.append(os.path.abspath(os.path.join(os.getcwd(), os.pardir)))\n"
   ]
  },
  {
   "cell_type": "code",
   "execution_count": 3,
   "metadata": {},
   "outputs": [
    {
     "name": "stderr",
     "output_type": "stream",
     "text": [
      "/Users/nishanshehadeh/opt/anaconda3/envs/WTP/lib/python3.12/site-packages/pinecone/data/index.py:1: TqdmWarning: IProgress not found. Please update jupyter and ipywidgets. See https://ipywidgets.readthedocs.io/en/stable/user_install.html\n",
      "  from tqdm.autonotebook import tqdm\n"
     ]
    }
   ],
   "source": [
    "from rag_system import RAGSystem\n"
   ]
  },
  {
   "cell_type": "code",
   "execution_count": 4,
   "metadata": {},
   "outputs": [
    {
     "name": "stdout",
     "output_type": "stream",
     "text": [
      "Response: I, the policy bot, have decided to tell you: President Biden's tax policies focus on extending all middle-class tax cuts while ensuring that no one making less than $400,000 per year sees a tax increase. He plans to fund these extensions through additional reforms targeting the wealthy and corporations to ensure they pay their fair share and do not add to the national debt. Biden opposes extending or restoring tax cuts and breaks for those earning more than $400,000 annually.\n",
      "\n",
      "Summary of context metadata: FACT SHEET: President Biden Is Fighting to Reduce the Deficit, Cut Taxes for Working Families, and Invest in America by Making Big Corporations and the Wealthy Pay Their Fair Share (March 07, 2024) and FACT SHEET: The President’s Budget Cuts Taxes for Working Families and Makes Big Corporations and the Wealthy Pay Their Fair Share (March 11, 2024)\n"
     ]
    }
   ],
   "source": [
    "# Create an instance of the RAGSystem with default settings\n",
    "rag_system = RAGSystem()\n",
    "\n",
    "# Test the RAGSystem with a query\n",
    "query = \"Give some info on Biden's tax policies\"\n",
    "response = rag_system.handle_query(query)\n",
    "print(\"Response:\", response)"
   ]
  },
  {
   "cell_type": "code",
   "execution_count": 5,
   "metadata": {},
   "outputs": [
    {
     "name": "stdout",
     "output_type": "stream",
     "text": [
      "I, the policy bot, have decided to tell you: The topic is: \"President Biden Is Fighting to Reduce the Deficit, Cut Taxes for Working Families, and Invest in America by Making Big Corporations and the Wealthy Pay Their Fair Share.\"\n",
      "\n",
      "President Biden's plan aims to cut taxes for working families and ensure that big corporations and the wealthy contribute their fair share to the economy. To achieve this, he will extend all middle-class tax cuts and oppose tax cuts for the wealthy, specifically those earning more than $400,000 per year. His policy contrasts with Congressional Republicans, who aim to make former President Trump's tax cuts permanent, which would add over $3 trillion to the debt over the next decade by favoring the wealthy and large corporations.\n",
      "\n",
      "Summary of context metadata: FACT SHEET: President Biden Is Fighting to Reduce the Deficit, Cut Taxes for Working Families, and Invest in America by Making Big Corporations and the Wealthy Pay Their Fair Share (March 07, 2024)\n"
     ]
    }
   ],
   "source": [
    "print(rag_system.handle_query(\"Give more information on the last topic. State the topic please\"))"
   ]
  },
  {
   "cell_type": "code",
   "execution_count": 7,
   "metadata": {},
   "outputs": [
    {
     "name": "stdout",
     "output_type": "stream",
     "text": [
      "Human: Give some info on Biden's tax policies\n",
      "AI: President Biden's tax policies focus on extending all middle-class tax cuts while ensuring that no one making less than $400,000 per year sees a tax increase. He plans to fund these extensions through additional reforms targeting the wealthy and corporations to ensure they pay their fair share and do not add to the national debt. Biden opposes extending or restoring tax cuts and breaks for those earning more than $400,000 annually.\n",
      "\n",
      "Summary of context metadata: FACT SHEET: President Biden Is Fighting to Reduce the Deficit, Cut Taxes for Working Families, and Invest in America by Making Big Corporations and the Wealthy Pay Their Fair Share (March 07, 2024) and FACT SHEET: The President’s Budget Cuts Taxes for Working Families and Makes Big Corporations and the Wealthy Pay Their Fair Share (March 11, 2024)\n",
      "Human: Give more information on the last topic. State the topic please\n",
      "AI: The topic is: \"President Biden Is Fighting to Reduce the Deficit, Cut Taxes for Working Families, and Invest in America by Making Big Corporations and the Wealthy Pay Their Fair Share.\"\n",
      "\n",
      "President Biden's plan aims to cut taxes for working families and ensure that big corporations and the wealthy contribute their fair share to the economy. To achieve this, he will extend all middle-class tax cuts and oppose tax cuts for the wealthy, specifically those earning more than $400,000 per year. His policy contrasts with Congressional Republicans, who aim to make former President Trump's tax cuts permanent, which would add over $3 trillion to the debt over the next decade by favoring the wealthy and large corporations.\n",
      "\n",
      "Summary of context metadata: FACT SHEET: President Biden Is Fighting to Reduce the Deficit, Cut Taxes for Working Families, and Invest in America by Making Big Corporations and the Wealthy Pay Their Fair Share (March 07, 2024)\n"
     ]
    }
   ],
   "source": [
    "print(rag_system.generator.get_session_history())"
   ]
  },
  {
   "cell_type": "code",
   "execution_count": null,
   "metadata": {},
   "outputs": [],
   "source": []
  }
 ],
 "metadata": {
  "kernelspec": {
   "display_name": "WTP",
   "language": "python",
   "name": "python3"
  },
  "language_info": {
   "codemirror_mode": {
    "name": "ipython",
    "version": 3
   },
   "file_extension": ".py",
   "mimetype": "text/x-python",
   "name": "python",
   "nbconvert_exporter": "python",
   "pygments_lexer": "ipython3",
   "version": "3.12.4"
  }
 },
 "nbformat": 4,
 "nbformat_minor": 2
}
