{
 "cells": [
  {
   "cell_type": "code",
   "execution_count": 1,
   "metadata": {},
   "outputs": [
    {
     "name": "stderr",
     "output_type": "stream",
     "text": [
      "/Users/nishanshehadeh/opt/anaconda3/envs/WTP/lib/python3.12/site-packages/pinecone/data/index.py:1: TqdmWarning: IProgress not found. Please update jupyter and ipywidgets. See https://ipywidgets.readthedocs.io/en/stable/user_install.html\n",
      "  from tqdm.autonotebook import tqdm\n"
     ]
    }
   ],
   "source": [
    "# Imports\n",
    "import os\n",
    "import nest_asyncio\n",
    "nest_asyncio.apply()\n",
    "from dotenv import load_dotenv\n",
    "load_dotenv()\n",
    "from whbriefingroom_loader import WhBriefingRoomLoader\n",
    "from langchain.text_splitter import RecursiveCharacterTextSplitter\n",
    "from langchain_openai import OpenAIEmbeddings\n",
    "from pymongo import MongoClient\n",
    "from langchain.schema import Document\n",
    "import time\n",
    "from pinecone import Pinecone, ServerlessSpec\n",
    "from langchain_pinecone import PineconeVectorStore\n",
    "\n",
    "\n"
   ]
  },
  {
   "cell_type": "code",
   "execution_count": 2,
   "metadata": {},
   "outputs": [],
   "source": [
    "os.environ[\"OPENAI_API_KEY\"] = os.getenv('OPENAI_API_KEY')\n",
    "os.environ[\"PINECONE_API_KEY\"] = os.getenv('PINECONE_API_KEY')\n",
    "\n",
    "connection_string = os.getenv('MONGO_CONNECTION_STRING')\n",
    "client = MongoClient(connection_string)\n",
    "\n",
    "ATLAS_VECTOR_SEARCH_INDEX_NAME = \"index_name\"\n",
    "DB_NAME = \"WTP\"\n",
    "COLLECTION_NAME = \"whbriefingroom\"\n",
    "MONGODB_COLLECTION = client[DB_NAME][COLLECTION_NAME]"
   ]
  },
  {
   "cell_type": "code",
   "execution_count": 3,
   "metadata": {},
   "outputs": [],
   "source": [
    "loader = WhBriefingRoomLoader(\n",
    "    connection_string=connection_string,\n",
    "    db_name=DB_NAME,\n",
    "    collection_name=COLLECTION_NAME,\n",
    ")"
   ]
  },
  {
   "cell_type": "markdown",
   "metadata": {},
   "source": []
  },
  {
   "cell_type": "code",
   "execution_count": 4,
   "metadata": {},
   "outputs": [
    {
     "data": {
      "text/plain": [
       "9570"
      ]
     },
     "execution_count": 4,
     "metadata": {},
     "output_type": "execute_result"
    }
   ],
   "source": [
    "# Load documents into \"docs\" list, each document is loaded in as a large string\n",
    "# The data for one document can be viewed with docs[index].page_content\n",
    "docs = loader.load()\n",
    "len(docs)"
   ]
  },
  {
   "cell_type": "code",
   "execution_count": 5,
   "metadata": {},
   "outputs": [
    {
     "name": "stdout",
     "output_type": "stream",
     "text": [
      "{'database': 'WTP', 'collection': 'whbriefingroom', 'id': '66a8ff13efac37d905d1db54', 'title': 'Remarks by President Biden in Statement to the American People', 'date_posted': 'July 24, 2024', 'category': 'Speeches and Remarks'}\n",
      "8:01 P.M. EDT THE PRESIDENT: My fellow Americans, I’m speaking to you tonight from behind the Resolute Desk in the Oval Office. In this sacred space, I’m surrounded by portraits of extraordinary American presidents. Thomas Jefferson, who wrote the immortal words that guide this nation. George Washington, who showed us presidents are not kings. Abraham Lincoln, who implored us to reject malice. Franklin Roosevelt, who inspired us to reject fear. I revere this office, but I love my country more. It’s been the honor of my life to serve as your president. But in the defense of democracy, which is at stake, I think it’s more important than any title. I draw strength and I find joy in working for the American people. But this sacred task of perfecting our Union — it’s not about me. It’s about you, your families, your futures. It’s about “We the People.” We can never forget that, and I never have. I’ve made it clear that I believe America is at an inflection point, one of those rare moments in history when the decisions we make now will determine our fate of our nation and the world for decades to come. America is going to have to choose between moving forward or backward, between hope and hate, between unity and division. We have to decide: Do we still believe in honesty, decency, and respect; freedom, justice, and democracy? In this moment, we can see those we disagree with not as enemies or — but as frien- — as fellow Americans. Can we do that? Does character in public life still matter? I believe I know the answer to these questions, because I know you, the American people. And I know this: We are a great nation because we are a good people. When you elected me to this office, I promised to always level with you, to tell you the truth. And the truth, the sacred cause of this country is larger than any one of us. And those of us who cheri[sh] that cause — cherish it so much — the cause of American democracy itself — must unite to protect it. You know, in recent weeks, it’s become clear to me that I needed to unite my party in this critical endeavor. I believe my record as president, my leadership in the world, my vision for America’s future all merited a second term, but nothing — nothing — can come in the way of saving our democracy. That includes personal ambition. So, I’ve decided the best way forward is to pass the torch to a new generation. That’s the best way to unite our nation. I know there is a time and a place for long years of experience in public life. But there is also a time and place for new voices, fresh voices — yes, younger voices. And that time and place is now. Over the next six months, I’ll be focused on doing my job as president. That means I will continue to lower costs for hardworking families, grow our economy. I’ll keep defending our personal freedoms and our civil rights, from the right to vote to the right to choose. And I’ll keep calling out hate and extremism and make it clear there is no place — no place in America for political violence or any violence ever, period. I’m going to keep — keep speaking out to protect our kids from gun violence, our planet from the climate crisis. It is the existential threat. And I will keep fighting my — for my Cancer Moonshot so we can end cancer as we know it, because we can do it. And I’m going to call for Supreme Court reform because this is critical to our democracy — Supreme Court reform. You know, I will keep working to ensure America remains strong and secure and the leader of the free world. I’m the first president in this century to report to the American people that the United States is not at war anywhere in the world. I will keep rallying a coalition of proud nations to stop Putin from taking over Ukraine and doing more damage. I will keep NATO stronger, and I’ll make it more powerful and more united than any time in all of our history. And I’ll keep doing the same for our allies in the Pacific. You know, when I came to office, the conventional wisdom was that China would inevitably — would inevitably pass the United — surpass the United States. That’s not the case anymore. And I’m going to keep working to end the war in Gaza, bring home all the hostages, and bring peace and security to the Middle East and end this war. We’re also working around the clock to bring home Americans being unjustly detained all around the world. You know, we have come so far since my inauguration. On that day, I told you as I stood in that winter — we stood in a winter of peril and a winter of possibilities — peril and possibilities. We’re in the grip of the wor- — we were in the grip of the worst pandemic in a century, the worst economic crisis since the Great Depression, the worst attack on our democracy since the Civil War. But we came together as Americans and we got through it. We emerged stronger, more prosperous, and more secure. And today, we have the strongest economy in the world, creating nearly 16 million new jobs — a record. Wages are up. Inflation continues to come down. The racial wealth gap is the lowest it’s been in 20 years. We’re literally rebuilding our entire nation — urban, suburban, rural, and Tribal communities. Manufacturing has come back to America. We’re leading the world again in chips and science and innovation. And we finally beat Big Pharma after all these years to lower the cost of prescription drugs for seniors. And I’m going to keep fighting to make sure we lower the costs for everyone, not just seniors. More people have health care today in America than ever before. And I signed one of the most significant laws helping millions of veterans and their families who were exposed to toxic materials. You know, the most significant climate law ever — ever in the history of the world. The first major gun safety law in 30 years. And today, violent — the violent crime rate is at a 50-year low. We’re also securing our border. Border crossings are lower today than when the previous administration left office. And I kept my commitment to appoint the first Black woman to the Supreme Court of the United States of America. I also kept my commitment to have an administration that looks like America and to be a president for all Americans. That’s what I’ve done. I ran for president four years ago because I believed and still do that the soul of America was at stake. The very nature of who we are was at stake. And that’s still the case. America is an idea — an idea stronger than any army, bigger than any ocean, more powerful than any dictator or tyrant. It’s the most powerful idea in the history of the world. That idea is that we hold these truths to be self-evident. We’re all created equal, endowed by our Creator with certain unalienable rights: life, liberty, the pursuit of happiness. We’ve never fully lived up to it — to this sacred idea, but we’ve never walked away from it either. And I do not believe the American people will walk away from it now. In just a few months, the American people will choose the course of America’s future. I made my choice. I have made my views known. I would like to thank our great vice president, Kamala Harris. She’s experienced. She’s tough. She’s capable. She has been an incredible partner to me and a leader for our country. Now the choice is up to you, the American people. When you make that choice, remember the words of Benjamin Franklin, who’s hanging on my wall here in the Oval Office alongside the busts of Dr. King and Rosa Parks and Cesar Chavez. When Ben Franklin was asked as he emerged from the — the con- — the — the convention going on whether the Founders had given America a monarchy or a republic, Franklin’s response was, “A republic, if you can keep it.” “A republic, if you can keep it.” Whether we keep our republic is now in your hands. My fellow Americans, it’s been the privilege of my life to serve this nation for over 50 years. Nowhere else on Earth could a kid with a stutter from modest beginnings in Scranton, Pennsylvania, and Claymont, Delaware, one day sit behind the Resolute Desk in the Oval Office as president of the United States. But here I am. That’s what’s so special about America. We are a nation of promise and possibilities, of dreamers and doers, of ordinary Americans doing extraordinary things. I have given my heart and my soul to our nation, like so many others. And I have been blessed a million times in return with the love and support of the American people. I hope you have some idea how grateful I am to all of you. The great thing about America is here kings and dictators do not rule. The people do. History is in your hands. The power is in your hands. The idea of America lies in your hands. We just have to keep faith — keep the faith and remember who we are. We are the United States of America, and there is simply nothing — nothing beyond our capacity when we do it together. So, let’s act together, preserve our democracy. God bless you all. And may God protect our troops. Thank you. 8:13 P.M. EDT\n"
     ]
    }
   ],
   "source": [
    "print(docs[0].metadata)\n",
    "print(docs[0].page_content)"
   ]
  },
  {
   "cell_type": "code",
   "execution_count": 6,
   "metadata": {},
   "outputs": [
    {
     "data": {
      "text/plain": [
       "110222"
      ]
     },
     "execution_count": 6,
     "metadata": {},
     "output_type": "execute_result"
    }
   ],
   "source": [
    "# Split document strings\n",
    "# TODO better to add metadata back to all documents? Otherwise it'll only be in the first chunk right?\n",
    "# Experiment with this, might need to build own loader\n",
    "text_splitter = RecursiveCharacterTextSplitter(chunk_size = 1000, chunk_overlap = 200, add_start_index=True)\n",
    "split_documents = []\n",
    "for doc in docs:\n",
    "    chunks = text_splitter.split_text(doc.page_content)\n",
    "    metadata_str = f\"Title: {doc.metadata['title']} Date Posted: {doc.metadata['date_posted']} Category: {doc.metadata['category']}\"\n",
    "    new_metadata = {key: value for key, value in doc.metadata.items() if key not in [\"title\", \"date_posted\", \"category\"]}\n",
    "\n",
    "    for chunk in chunks:\n",
    "        content_with_metadata = f\"{chunk} {metadata_str}\"\n",
    "        split_documents.append(Document(\n",
    "            page_content=content_with_metadata, \n",
    "            metadata=new_metadata))\n",
    "\n",
    "len(split_documents)"
   ]
  },
  {
   "cell_type": "code",
   "execution_count": 7,
   "metadata": {},
   "outputs": [
    {
     "name": "stdout",
     "output_type": "stream",
     "text": [
      "{'collection': 'whbriefingroom',\n",
      " 'database': 'WTP',\n",
      " 'id': '66a8ff13efac37d905d1db54'}\n",
      "('8:01 P.M. EDT THE PRESIDENT: My fellow Americans, I’m speaking to you '\n",
      " 'tonight from behind the Resolute Desk in the Oval Office. In this sacred '\n",
      " 'space, I’m surrounded by portraits of extraordinary American presidents. '\n",
      " 'Thomas Jefferson, who wrote the immortal words that guide this nation. '\n",
      " 'George Washington, who showed us presidents are not kings. Abraham Lincoln, '\n",
      " 'who implored us to reject malice. Franklin Roosevelt, who inspired us to '\n",
      " 'reject fear. I revere this office, but I love my country more. It’s been the '\n",
      " 'honor of my life to serve as your president. But in the defense of '\n",
      " 'democracy, which is at stake, I think it’s more important than any title. I '\n",
      " 'draw strength and I find joy in working for the American people. But this '\n",
      " 'sacred task of perfecting our Union — it’s not about me. It’s about you, '\n",
      " 'your families, your futures. It’s about “We the People.” We can never forget '\n",
      " 'that, and I never have. I’ve made it clear that I believe America is at an '\n",
      " 'inflection point, one of those rare moments Title: Remarks by President '\n",
      " 'Biden in Statement to the American People Date Posted: July 24, 2024 '\n",
      " 'Category: Speeches and Remarks')\n"
     ]
    }
   ],
   "source": [
    "from pprint import pprint\n",
    "# Show the first two chunks w/ overlap from the same article\n",
    "pprint(split_documents[0].metadata)\n",
    "pprint(split_documents[0].page_content)\n"
   ]
  },
  {
   "cell_type": "code",
   "execution_count": 8,
   "metadata": {},
   "outputs": [],
   "source": [
    "pc = Pinecone()\n",
    "\n",
    "index_name = \"langchain-index\"\n",
    "\n",
    "existing_indexes = [index_info[\"name\"] for index_info in pc.list_indexes()]\n",
    "\n",
    "if index_name not in existing_indexes:\n",
    "    pc.create_index(\n",
    "        name=index_name,\n",
    "        dimension=1536,\n",
    "        metric=\"cosine\",\n",
    "        spec=ServerlessSpec(cloud=\"aws\", region=\"us-east-1\"),\n",
    "    )\n",
    "    while not pc.describe_index(index_name).status[\"ready\"]:\n",
    "        time.sleep(1)\n",
    "\n",
    "index = pc.Index(index_name)\n"
   ]
  },
  {
   "cell_type": "code",
   "execution_count": 10,
   "metadata": {},
   "outputs": [],
   "source": [
    "embeddings = OpenAIEmbeddings(model='text-embedding-3-small')\n",
    "\n",
    "#FIXME count on documents, maybe upsert them somehow next time, I think that's a function\n",
    "#FIXME maybe add back metadata seperate of text, src: https://python.langchain.com/v0.2/docs/integrations/retrievers/self_query/pinecone/\n",
    "\n",
    "vector_store = PineconeVectorStore.from_documents(split_documents[90872:], embeddings, index_name=index_name)\n"
   ]
  },
  {
   "cell_type": "code",
   "execution_count": null,
   "metadata": {},
   "outputs": [],
   "source": [
    "\n"
   ]
  },
  {
   "cell_type": "markdown",
   "metadata": {},
   "source": []
  },
  {
   "cell_type": "code",
   "execution_count": null,
   "metadata": {},
   "outputs": [],
   "source": []
  }
 ],
 "metadata": {
  "kernelspec": {
   "display_name": "WTP",
   "language": "python",
   "name": "python3"
  },
  "language_info": {
   "codemirror_mode": {
    "name": "ipython",
    "version": 3
   },
   "file_extension": ".py",
   "mimetype": "text/x-python",
   "name": "python",
   "nbconvert_exporter": "python",
   "pygments_lexer": "ipython3",
   "version": "3.12.4"
  }
 },
 "nbformat": 4,
 "nbformat_minor": 2
}
