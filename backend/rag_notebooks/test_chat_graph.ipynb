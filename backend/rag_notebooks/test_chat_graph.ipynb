{
 "cells": [
  {
   "cell_type": "markdown",
   "metadata": {},
   "source": [
    "# Test Chat Graph Implementation\n",
    "\n",
    "This notebook tests the ChatGraph implementation from the RAG system."
   ]
  },
  {
   "cell_type": "code",
   "execution_count": 1,
   "metadata": {},
   "outputs": [
    {
     "name": "stderr",
     "output_type": "stream",
     "text": [
      "/Users/nishanshehadeh/opt/anaconda3/envs/WTP/lib/python3.12/site-packages/pinecone/data/index.py:1: TqdmWarning: IProgress not found. Please update jupyter and ipywidgets. See https://ipywidgets.readthedocs.io/en/stable/user_install.html\n",
      "  from tqdm.autonotebook import tqdm\n"
     ]
    }
   ],
   "source": [
    "import sys\n",
    "sys.path.append('/Users/nishanshehadeh/GitHubProjects/policy-bot-overview/main')\n",
    "sys.path.append('../')\n",
    "\n",
    "from backend.rag.chat_graph import ChatGraph\n",
    "from langchain_community.chat_message_histories import ChatMessageHistory\n",
    "from langchain_core.messages import HumanMessage, AIMessage\n",
    "from IPython.display import Image, display"
   ]
  },
  {
   "cell_type": "code",
   "execution_count": 2,
   "metadata": {},
   "outputs": [],
   "source": [
    "chat_history = ChatMessageHistory()\n",
    "chat_history.add_user_message(\"Tell me something about Joe Biden's foreign policy in Ukraine\")\n"
   ]
  },
  {
   "cell_type": "code",
   "execution_count": 3,
   "metadata": {},
   "outputs": [],
   "source": [
    "chat_graph = ChatGraph(chat_history=chat_history)\n"
   ]
  },
  {
   "cell_type": "code",
   "execution_count": null,
   "metadata": {},
   "outputs": [],
   "source": [
    "display(chat_graph.display())"
   ]
  },
  {
   "cell_type": "code",
   "execution_count": null,
   "metadata": {},
   "outputs": [],
   "source": [
    "import asyncio\n",
    "\n",
    "\n",
    "async def test_async_chat():\n",
    "    # Use your existing chat_graph instance\n",
    "    query = \"Tell me more about the first thing I asked about\"\n",
    "    print(\"Testing async chat with query:\", query)\n",
    "    print(\"Starting async processing...\")\n",
    "    \n",
    "    try:\n",
    "        # Add debug prints for each step\n",
    "        print(\"Before async for loop\")\n",
    "        async for chunk in chat_graph.process_query_async(query):\n",
    "            print(f\"Received chunk (length: {len(chunk)}): {chunk}\")\n",
    "        print(\"After async for loop\")\n",
    "    except Exception as e:\n",
    "        print(f\"Error occurred: {str(e)}\")\n",
    "        import traceback\n",
    "        traceback.print_exc()\n",
    "        \n",
    "print(\"Starting test...\")\n",
    "await test_async_chat()\n",
    "print(\"Test completed\")"
   ]
  },
  {
   "cell_type": "code",
   "execution_count": null,
   "metadata": {},
   "outputs": [],
   "source": [
    "import asyncio\n",
    "\n",
    "\n",
    "async def test_async_chat():\n",
    "    # Use your existing chat_graph instance\n",
    "    query = \"What confidence building measures?\"\n",
    "    print(\"Testing async chat with query:\", query)\n",
    "    print(\"Starting async processing...\")\n",
    "    \n",
    "    try:\n",
    "        # Add debug prints for each step\n",
    "        print(\"Before async for loop\")\n",
    "        async for chunk in chat_graph.process_query_async(query):\n",
    "            print(f\"Received chunk (length: {len(chunk)}): {chunk}\")\n",
    "        print(\"After async for loop\")\n",
    "    except Exception as e:\n",
    "        print(f\"Error occurred: {str(e)}\")\n",
    "        import traceback\n",
    "        traceback.print_exc()\n",
    "        \n",
    "print(\"Starting test...\")\n",
    "await test_async_chat()\n",
    "print(\"Test completed\")"
   ]
  },
  {
   "cell_type": "code",
   "execution_count": null,
   "metadata": {},
   "outputs": [],
   "source": []
  }
 ],
 "metadata": {
  "kernelspec": {
   "display_name": "WTP",
   "language": "python",
   "name": "python3"
  },
  "language_info": {
   "codemirror_mode": {
    "name": "ipython",
    "version": 3
   },
   "file_extension": ".py",
   "mimetype": "text/x-python",
   "name": "python",
   "nbconvert_exporter": "python",
   "pygments_lexer": "ipython3",
   "version": "3.12.4"
  }
 },
 "nbformat": 4,
 "nbformat_minor": 4
}
