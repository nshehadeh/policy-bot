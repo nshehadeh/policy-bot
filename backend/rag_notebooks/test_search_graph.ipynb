{
 "cells": [
  {
   "cell_type": "markdown",
   "metadata": {},
   "source": [
    "# Test Search Graph Implementation\n",
    "\n",
    "This notebook tests the SearchGraph implementation from the RAG system."
   ]
  },
  {
   "cell_type": "code",
   "execution_count": 1,
   "metadata": {},
   "outputs": [
    {
     "name": "stderr",
     "output_type": "stream",
     "text": [
      "/Users/nishanshehadeh/opt/anaconda3/envs/WTP/lib/python3.12/site-packages/pinecone/data/index.py:1: TqdmWarning: IProgress not found. Please update jupyter and ipywidgets. See https://ipywidgets.readthedocs.io/en/stable/user_install.html\n",
      "  from tqdm.autonotebook import tqdm\n"
     ]
    }
   ],
   "source": [
    "import sys\n",
    "sys.path.append('/Users/nishanshehadeh/GitHubProjects/policy-bot-overview/main')\n",
    "sys.path.append('../')\n",
    "\n",
    "from backend.rag.search_graph import SearchGraph\n",
    "from langchain_community.chat_message_histories import ChatMessageHistory\n",
    "from langchain_core.messages import HumanMessage, AIMessage\n",
    "from IPython.display import Image, display"
   ]
  },
  {
   "cell_type": "code",
   "execution_count": 2,
   "metadata": {},
   "outputs": [],
   "source": [
    "search_graph = SearchGraph()\n"
   ]
  },
  {
   "cell_type": "code",
   "execution_count": 3,
   "metadata": {},
   "outputs": [
    {
     "name": "stdout",
     "output_type": "stream",
     "text": [
      "Query:  \"Climate change policy documents, greenhouse gas emissions regulations, United Nations Framework Convention on Climate Change (UNFCCC), Paris Agreement, Kyoto Protocol, climate change mitigation strategies, adaptation policies, Intergovernmental Panel on Climate Change (IPCC) reports, climate change impact on biodiversity, climate justice, climate finance, stakeholders in climate change policy (government bodies, NGOs, private sector, indigenous communities), national and international climate change guidelines, climate change legislation, renewable energy policies, carbon trading and carbon tax policies, climate change and sustainable development goals, climate change risk assessment and management.\"\n",
      "6 documents retrieved in retriever\n",
      "Document: dict_keys(['documents', 'combined_string'])\n"
     ]
    },
    {
     "data": {
      "text/plain": [
       "['66a90863efac37d905f47b0c',\n",
       " '66a90858efac37d905f45543',\n",
       " '66a90864efac37d905f47cfa',\n",
       " '66a902bfefac37d905df173f',\n",
       " '66a90863efac37d905f47b0c',\n",
       " '66a8ff6fefac37d905d30a81']"
      ]
     },
     "execution_count": 3,
     "metadata": {},
     "output_type": "execute_result"
    }
   ],
   "source": [
    "search_graph.process_query(\"Climate Change\")"
   ]
  },
  {
   "cell_type": "code",
   "execution_count": null,
   "metadata": {},
   "outputs": [],
   "source": []
  }
 ],
 "metadata": {
  "kernelspec": {
   "display_name": "WTP",
   "language": "python",
   "name": "python3"
  },
  "language_info": {
   "codemirror_mode": {
    "name": "ipython",
    "version": 3
   },
   "file_extension": ".py",
   "mimetype": "text/x-python",
   "name": "python",
   "nbconvert_exporter": "python",
   "pygments_lexer": "ipython3",
   "version": "3.12.4"
  }
 },
 "nbformat": 4,
 "nbformat_minor": 4
}
