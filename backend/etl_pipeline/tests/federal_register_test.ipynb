{
 "cells": [
  {
   "cell_type": "code",
   "execution_count": 23,
   "metadata": {},
   "outputs": [],
   "source": [
    "import requests\n",
    "from pymongo import MongoClient\n",
    "from datetime import datetime, timedelta\n",
    "import logging\n",
    "import os\n",
    "from dotenv import load_dotenv\n",
    "import PyPDF2\n",
    "from xml.etree import ElementTree\n",
    "from bs4 import BeautifulSoup\n",
    "import re\n"
   ]
  },
  {
   "cell_type": "code",
   "execution_count": 15,
   "metadata": {},
   "outputs": [],
   "source": [
    "# Load environment variables\n",
    "load_dotenv()\n",
    "\n",
    "# Logging Configuration\n",
    "logging.basicConfig(level=logging.INFO, format=\"%(asctime)s - %(levelname)s - %(message)s\")\n"
   ]
  },
  {
   "cell_type": "code",
   "execution_count": 16,
   "metadata": {},
   "outputs": [],
   "source": [
    "# MongoDB Connection\n",
    "def get_mongo_collection():\n",
    "    try:\n",
    "        connection_string = os.getenv('MONGO_CONNECTION_STRING')\n",
    "        client = MongoClient(connection_string)\n",
    "        db = client['govai']\n",
    "        logging.info(\"Connected to MongoDB successfully.\")\n",
    "        return db['test']\n",
    "    except Exception as e:\n",
    "        logging.error(f\"Failed to connect to MongoDB: {e}\")\n",
    "        raise\n",
    "    "
   ]
  },
  {
   "cell_type": "code",
   "execution_count": 17,
   "metadata": {},
   "outputs": [],
   "source": [
    "BASE_URL = 'https://www.federalregister.gov/api/v1/documents'\n"
   ]
  },
  {
   "cell_type": "code",
   "execution_count": 18,
   "metadata": {},
   "outputs": [
    {
     "name": "stderr",
     "output_type": "stream",
     "text": [
      "2024-12-11 20:38:51,462 - INFO - Fetched 100 documents from page 1.\n",
      "2024-12-11 20:38:51,851 - INFO - Fetched 63 documents from page 2.\n",
      "2024-12-11 20:38:52,120 - INFO - Total documents fetched: 163.\n"
     ]
    }
   ],
   "source": [
    "# Fetch documents from the Federal Register API with pagination\n",
    "# TODO, can extract more information including agencies, summaries?, topics, images, etc for better information\n",
    "def fetch_documents(start_date, end_date, per_page=100):\n",
    "    all_documents = []\n",
    "    page = 1  # Start with the first page\n",
    "\n",
    "    while True:\n",
    "        params = {\n",
    "            \"conditions[publication_date][gte]\": start_date,\n",
    "            \"conditions[publication_date][lte]\": end_date,\n",
    "            \"per_page\": per_page,\n",
    "            \"page\": page,\n",
    "            \"order\": \"newest\",\n",
    "            \"fields[]\": [\n",
    "                \"document_number\",\n",
    "                \"title\",\n",
    "                \"abstract\",\n",
    "                \"publication_date\",\n",
    "                \"type\",\n",
    "                \"html_url\",\n",
    "                \"pdf_url\",\n",
    "                \"full_text_xml_url\",\n",
    "                \"raw_text_url\",\n",
    "                \"agencies\",\n",
    "            ] \n",
    "        }\n",
    "\n",
    "        try:\n",
    "            response = requests.get(BASE_URL, params=params)\n",
    "            response.raise_for_status()\n",
    "            data = response.json()\n",
    "            results = data.get(\"results\", [])\n",
    "            if not results:\n",
    "                break  # Exit the loop if no more results\n",
    "\n",
    "            all_documents.extend(results)\n",
    "            logging.info(f\"Fetched {len(results)} documents from page {page}.\")\n",
    "            page += 1  # Move to the next page\n",
    "\n",
    "        except requests.exceptions.RequestException as e:\n",
    "            logging.error(f\"Failed to fetch data from the API: {e}\")\n",
    "            raise\n",
    "\n",
    "    logging.info(f\"Total documents fetched: {len(all_documents)}.\")\n",
    "    return {\"results\": all_documents}\n",
    "\n",
    "\n",
    "# start and end dates in YYYY-MM-DD format\n",
    "raw_data = fetch_documents(\"2024-12-4\", \"2024-12-5\")\n"
   ]
  },
  {
   "cell_type": "code",
   "execution_count": 19,
   "metadata": {},
   "outputs": [],
   "source": [
    "# Confirm metadata is the same for all response\n",
    "for i in range(1, len(raw_data[\"results\"])):\n",
    "    if raw_data[\"results\"][i].keys() != raw_data[\"results\"][i-1].keys():\n",
    "        print(\"False\")\n"
   ]
  },
  {
   "cell_type": "code",
   "execution_count": 20,
   "metadata": {},
   "outputs": [
    {
     "name": "stdout",
     "output_type": "stream",
     "text": [
      "{'document_number': '2024-28502', 'title': 'Surplus Property; Notice of Additional Property at the Former Pueblo Chemical Depot', 'abstract': 'This Notice amends the Notice published in the Federal Register on December 20, 2013 and provides information regarding the property that has been determined surplus to the United States needs pursuant to section 2854 (Closure and Disposal of the Pueblo Chemical Depot, Pueblo County, Colorado) of the National Defense Authorization Act for Fiscal Year 2024 (NDAA FY24) and in accordance with procedures and authorities for the closure, management, and disposal of property under the appropriate base closure laws, and following screening with Federal agencies and Department of Defense components.', 'publication_date': '2024-12-05', 'type': 'Notice', 'html_url': 'https://www.federalregister.gov/documents/2024/12/05/2024-28502/surplus-property-notice-of-additional-property-at-the-former-pueblo-chemical-depot', 'pdf_url': 'https://www.govinfo.gov/content/pkg/FR-2024-12-05/pdf/2024-28502.pdf', 'full_text_xml_url': 'https://www.federalregister.gov/documents/full_text/xml/2024/12/05/2024-28502.xml', 'raw_text_url': 'https://www.federalregister.gov/documents/full_text/text/2024/12/05/2024-28502.txt', 'agencies': [{'raw_name': 'DEPARTMENT OF DEFENSE', 'name': 'Defense Department', 'id': 103, 'url': 'https://www.federalregister.gov/agencies/defense-department', 'json_url': 'https://www.federalregister.gov/api/v1/agencies/103', 'parent_id': None, 'slug': 'defense-department'}, {'raw_name': 'Department of the Army', 'name': 'Army Department', 'id': 32, 'url': 'https://www.federalregister.gov/agencies/army-department', 'json_url': 'https://www.federalregister.gov/api/v1/agencies/32', 'parent_id': 103, 'slug': 'army-department'}]}\n",
      "dict_keys(['document_number', 'title', 'abstract', 'publication_date', 'type', 'html_url', 'pdf_url', 'full_text_xml_url', 'raw_text_url', 'agencies'])\n"
     ]
    }
   ],
   "source": [
    "# Print example result\n",
    "print(raw_data['results'][5])\n",
    "print(raw_data[\"results\"][5].keys())"
   ]
  },
  {
   "cell_type": "code",
   "execution_count": 21,
   "metadata": {},
   "outputs": [],
   "source": [
    "# Raw Text Extraction\n",
    "# Fetch raw text from the URL\n",
    "def fetch_raw_text(raw_text_url):\n",
    "    try:\n",
    "        response = requests.get(raw_text_url)\n",
    "        response.raise_for_status()\n",
    "        raw_html = response.text\n",
    "        # Clean the HTML content\n",
    "        soup = BeautifulSoup(raw_html, \"html.parser\")\n",
    "        clean_text = soup.get_text()\n",
    "        return clean_text\n",
    "    except requests.exceptions.RequestException as e:\n",
    "        logging.error(f\"Failed to fetch raw text from {raw_text_url}: {e}\")\n",
    "        return None\n",
    "\n",
    "# Fetch and parse text from the full text XML URL\n",
    "def fetch_full_text(full_text_xml_url):\n",
    "    try:\n",
    "        response = requests.get(full_text_xml_url)\n",
    "        response.raise_for_status()\n",
    "        root = ElementTree.fromstring(response.content)\n",
    "        text = \" \".join(element.text for element in root.iter() if element.text)\n",
    "        return text\n",
    "    except (requests.exceptions.RequestException, ElementTree.ParseError) as e:\n",
    "        logging.error(f\"Failed to fetch or parse full text from {full_text_xml_url}: {e}\")\n",
    "        return None\n",
    "\n",
    "# Extract text from a PDF URL\n",
    "def extract_text_from_pdf(pdf_url):\n",
    "    try:\n",
    "        response = requests.get(pdf_url)\n",
    "        response.raise_for_status()\n",
    "        with open(\"temp.pdf\", \"wb\") as f:\n",
    "            f.write(response.content)\n",
    "        with open(\"temp.pdf\", \"rb\") as f:\n",
    "            reader = PyPDF2.PdfReader(f)\n",
    "            text = \" \".join(page.extract_text() for page in reader.pages if page.extract_text())\n",
    "        os.remove(\"temp.pdf\")  # Clean up temporary file\n",
    "        return text\n",
    "    except requests.exceptions.RequestException as e:\n",
    "        logging.error(f\"Failed to download PDF from {pdf_url}: {e}\")\n",
    "        return None\n",
    "    except Exception as e:\n",
    "        logging.error(f\"Failed to extract text from PDF: {e}\")\n",
    "        return None\n",
    "    \n",
    "def clean_raw_text(text):\n",
    "    \"\"\"\n",
    "    Cleans raw text by:\n",
    "    - Removing HTML tags.\n",
    "    - Replacing special characters like \\\\n, \\\\x00 with spaces.\n",
    "    - Normalizing whitespace.\n",
    "    - Stripping leading/trailing whitespace.\n",
    "    \"\"\"\n",
    "    try:\n",
    "        # Remove HTML tags\n",
    "        soup = BeautifulSoup(text, \"html.parser\")\n",
    "        cleaned_text = soup.get_text()\n",
    "\n",
    "        # Remove special characters (e.g., \\n, \\x00)\n",
    "        cleaned_text = re.sub(r'\\\\n|\\\\x[0-9a-fA-F]{2}', ' ', cleaned_text)\n",
    "\n",
    "        # Normalize excessive whitespace\n",
    "        cleaned_text = re.sub(r'\\s+', ' ', cleaned_text)\n",
    "\n",
    "        # Strip leading/trailing whitespace\n",
    "        cleaned_text = cleaned_text.strip()\n",
    "\n",
    "        return cleaned_text\n",
    "    except Exception as e:\n",
    "        logging.error(f\"Failed to clean raw text: {e}\")\n",
    "        return text"
   ]
  },
  {
   "cell_type": "code",
   "execution_count": 24,
   "metadata": {},
   "outputs": [
    {
     "name": "stderr",
     "output_type": "stream",
     "text": [
      "2024-12-11 20:43:49,401 - INFO - Text extraction summary: 163 from raw_text_url, 0 from full_text_xml_url, 0 from pdf_url, 0 failures.\n",
      "2024-12-11 20:43:49,414 - INFO - Transformed 163 documents with text extraction.\n"
     ]
    }
   ],
   "source": [
    "# Transform raw API data into a consistent format with text extraction\n",
    "def transform(raw_data):\n",
    "    try:\n",
    "        documents = []\n",
    "        raw_text_count = 0\n",
    "        full_text_count = 0\n",
    "        pdf_text_count = 0\n",
    "        failed_text_count = 0\n",
    "\n",
    "        for item in raw_data.get(\"results\", []):\n",
    "            raw_text = None\n",
    "            if item.get(\"raw_text_url\"):\n",
    "                raw_text = fetch_raw_text(item[\"raw_text_url\"])\n",
    "                if raw_text:\n",
    "                    raw_text_count += 1\n",
    "            elif item.get(\"full_text_xml_url\"):\n",
    "                raw_text = fetch_full_text(item[\"full_text_xml_url\"])\n",
    "                if raw_text:\n",
    "                    full_text_count += 1\n",
    "            elif item.get(\"pdf_url\"):\n",
    "                raw_text = extract_text_from_pdf(item[\"pdf_url\"])\n",
    "                if raw_text:\n",
    "                    pdf_text_count += 1\n",
    "\n",
    "            if not raw_text:\n",
    "                failed_text_count += 1\n",
    "                \n",
    "            raw_text = clean_raw_text(raw_text)\n",
    "\n",
    "            documents.append({\n",
    "                \"document_number\": item.get(\"document_number\"),\n",
    "                \"title\": item.get(\"title\"),\n",
    "                \"abstract\": item.get(\"abstract\"),\n",
    "                \"publication_date\": item.get(\"publication_date\"),\n",
    "                \"type\": item.get(\"type\"),\n",
    "                \"html_url\": item.get(\"html_url\"),\n",
    "                \"pdf_url\": item.get(\"pdf_url\"),\n",
    "                \"full_text_xml_url\": item.get(\"full_text_xml_url\"),\n",
    "                \"raw_text_url\": item.get(\"raw_text_url\"),\n",
    "                \"raw_text\": raw_text,  # Store extracted text\n",
    "                \"agencies\": item.get(\"agencies\", []),\n",
    "                \"summary\": None,  # Placeholder for summarization\n",
    "                \"chunked\": False,  # Indicates if the document has been chunked\n",
    "                \"embedded\": False,  # Indicates if embeddings are generated\n",
    "                \"processed_at\": None,  # Timestamp of the last processing\n",
    "            })\n",
    "\n",
    "        logging.info(f\"Text extraction summary: {raw_text_count} from raw_text_url, {full_text_count} from full_text_xml_url, {pdf_text_count} from pdf_url, {failed_text_count} failures.\")\n",
    "        logging.info(f\"Transformed {len(documents)} documents with text extraction.\")\n",
    "        return documents\n",
    "    except Exception as e:\n",
    "        logging.error(f\"Error during transformation: {e}\")\n",
    "        raise\n",
    "    \n",
    "transformed_data = transform(raw_data)\n"
   ]
  },
  {
   "cell_type": "code",
   "execution_count": 25,
   "metadata": {},
   "outputs": [
    {
     "name": "stdout",
     "output_type": "stream",
     "text": [
      "dict_keys(['document_number', 'title', 'abstract', 'publication_date', 'type', 'html_url', 'pdf_url', 'full_text_xml_url', 'raw_text_url', 'raw_text', 'agencies', 'summary', 'chunked', 'embedded', 'processed_at'])\n",
      "Federal Register, Volume 89 Issue 234 (Thursday, December 5, 2024) [Federal Register Volume 89, Number 234 (Thursday, December 5, 2024)] [Presidential Documents] [Pages 96515-96516] From the Federal Register Online via the Government Publishing Office [www.gpo.gov] [FR Doc No: 2024-28714] \u0000 \u0000 \u0000 Presidential Documents \u0000 \u0000 \u0000\u0000Federal Register / Vol. 89, No. 234 / Thursday, December 5, 2024 / Presidential Documents\u0000\u0000 [[Page 96515]] Proclamation 10867 of November 29, 2024 World AIDS Day, 2024 By the President of the United States of America A Proclamation Our Nation has made enormous strides toward preventing, diagnosing, and treating HIV--a terrible disease that has stolen the precious lives of over 40 million people since the epidemic began in 1981. Despite our progress, over 39 million people worldwide continue to live with it, including over 1 million people in the United States. On World AIDS Day, we honor the memory of all those we tragically lost to HIV around the world. We stand in solidarity with all those who are courageously facing the disease today. And we renew our commitment to accelerating efforts to finally end the HIV/AIDS epidemic. My Administration has made historic progress toward addressing this fight. In my first year in office, I reestablished the White House Office of National AIDS Policy and launched a new National HIV/AIDS Strategy, to put us on the path to end this epidemic by 2030. To that end, the Health Resources and Services Administration committed nearly $10 billion in funding through the Ryan White HIV/AIDS Program to ensure that low-income individuals in America with HIV can receive the medication and quality care they need. The Department of Health and Human Services is also working to guarantee that Americans have access to HIV interventions like pre-exposure prophylaxis (PrEP) and self-tests to prevent HIV. And the Centers for Medicare and Medicaid Services has ensured that PrEP medications--including long-term injectable options-- and critical support services like counseling and screenings for HIV and hepatitis B are free for people with Medicare. Furthermore, the Centers for Disease Control and Prevention invested $10 million in a pilot program that covers the cost of PrEP to five health departments across the Nation--an important step toward ensuring everyone has access to this vital medication. Additionally, my Administration's investments in the Ending the HIV Epidemic in the United States initiative, which reaches over 50 jurisdictions, has helped decrease HIV incidence by 21 percent in the past year in those areas. At the same time, my Administration is working to fight the stigma surrounding HIV and to ensure that people with HIV do not face bias or discrimination--which too often stops people from getting life-saving care. I am proud that last year my Administration ended the shameful practice of banning gay and bisexual men from donating blood. We also released updates to the Rehabilitation Act that strengthen civil rights protections in medical settings for people with HIV. And I join advocates around the country in sharing the message of U=U, which stands for undetectable equals untransmittable, and makes clear that a person living with HIV who is on treatment and maintains an undetectable viral load has zero risk of transmitting HIV. We are committed to ensuring people understand the latest science about HIV transmission, testing, prevention, and care. And we are calling on States and community leaders to repeal or reform outdated HIV criminalization laws, so people are not wrongfully punished for exposing others to HIV without the intent to cause harm. Globally, my Administration is working with international partners to lead the global fight to end HIV/AIDS as a public health threat by 2030, including [[Page 96516]] through the President's Emergency Plan for AIDS Relief (PEPFAR) and our investments in the Global Fund to Fight AIDS, Tuberculosis, and Malaria. PEPFAR has saved more than 25 million lives in 55 countries by working to prevent HIV infections and expand access to HIV treatment and care services. In 2023, my Administration worked with the Congress to reauthorize PEPFAR for the fourth time ensuring that America continues to help build a future where HIV infections are prevented and every person has access to the treatment they need. This year, we also celebrate the 10th anniversary of the DREAMS (Determined, Resilient, Empowered, AIDS- Free, Mentored, and Safe) partnership, which has worked to lower HIV infections in adolescent girls and young women around the world. This year, on World AIDS Day, the AIDS Quilt which was first displayed on the National Mall in 1987, will be publicly displayed at the White House for the first time in our Nation's history. The Quilt is a memorial for all those we have lost to AIDS and AIDS-related illnesses. We also express our gratitude to the activists, scientists, doctors, and caregivers who have worked tirelessly to advance our Nation's progress in the fight against this epidemic. And we recommit as a Nation to shining a light on the struggle, strength, and resilience of people affected by HIV. Together, let this World AIDS Day be a moment of unity that rallies the country to give all those affected the care, hope, and support they deserve. NOW, THEREFORE, I, JOSEPH R. BIDEN JR., President of the United States of America, by virtue of the authority vested in me by the Constitution and the laws of the United States, do hereby proclaim December 1, 2024, as World AIDS Day. I urge the Governors of the United States and its Commonwealths and Territories, the appropriate officials of all units of government, and the American people to join the HIV community in activities to remember those who have lost their lives to AIDS and to provide support, dignity, and compassion to people with HIV. IN WITNESS WHEREOF, I have hereunto set my hand this twenty-ninth day of November, in the year of our Lord two thousand twenty-four, and of the Independence of the United States of America the two hundred and forty- ninth. (Presidential Sig.) [FR Doc. 2024-28714 Filed 12-4-24; 8:45 am] Billing code 3395-F4-P\n"
     ]
    }
   ],
   "source": [
    "# Check on an example\n",
    "print(transformed_data[0].keys())\n",
    "print(transformed_data[0]['raw_text'])"
   ]
  },
  {
   "cell_type": "code",
   "execution_count": 26,
   "metadata": {},
   "outputs": [
    {
     "name": "stderr",
     "output_type": "stream",
     "text": [
      "2024-12-11 20:44:29,065 - INFO - Connected to MongoDB successfully.\n",
      "/Users/nishanshehadeh/opt/anaconda3/envs/WTP/lib/python3.12/site-packages/pymongo/ocsp_support.py:280: CryptographyDeprecationWarning: Properties that return a naïve datetime object have been deprecated. Please switch to this_update_utc.\n",
      "  if response.this_update > now:\n",
      "/Users/nishanshehadeh/opt/anaconda3/envs/WTP/lib/python3.12/site-packages/pymongo/ocsp_support.py:284: CryptographyDeprecationWarning: Properties that return a naïve datetime object have been deprecated. Please switch to next_update_utc.\n",
      "  if response.next_update and response.next_update < now:\n",
      "/Users/nishanshehadeh/opt/anaconda3/envs/WTP/lib/python3.12/site-packages/pymongo/ocsp_cache.py:65: CryptographyDeprecationWarning: Properties that return a naïve datetime object have been deprecated. Please switch to next_update_utc.\n",
      "  if value.next_update is None:\n",
      "/Users/nishanshehadeh/opt/anaconda3/envs/WTP/lib/python3.12/site-packages/pymongo/ocsp_cache.py:71: CryptographyDeprecationWarning: Properties that return a naïve datetime object have been deprecated. Please switch to this_update_utc.\n",
      "  value.this_update\n",
      "/Users/nishanshehadeh/opt/anaconda3/envs/WTP/lib/python3.12/site-packages/pymongo/ocsp_cache.py:73: CryptographyDeprecationWarning: Properties that return a naïve datetime object have been deprecated. Please switch to next_update_utc.\n",
      "  < value.next_update\n",
      "/Users/nishanshehadeh/opt/anaconda3/envs/WTP/lib/python3.12/site-packages/pymongo/ocsp_cache.py:81: CryptographyDeprecationWarning: Properties that return a naïve datetime object have been deprecated. Please switch to next_update_utc.\n",
      "  cached_value.next_update is not None\n",
      "/Users/nishanshehadeh/opt/anaconda3/envs/WTP/lib/python3.12/site-packages/pymongo/ocsp_cache.py:82: CryptographyDeprecationWarning: Properties that return a naïve datetime object have been deprecated. Please switch to next_update_utc.\n",
      "  and cached_value.next_update < value.next_update\n",
      "/Users/nishanshehadeh/opt/anaconda3/envs/WTP/lib/python3.12/site-packages/pymongo/ocsp_cache.py:98: CryptographyDeprecationWarning: Properties that return a naïve datetime object have been deprecated. Please switch to this_update_utc.\n",
      "  assert value.this_update is not None\n",
      "/Users/nishanshehadeh/opt/anaconda3/envs/WTP/lib/python3.12/site-packages/pymongo/ocsp_cache.py:99: CryptographyDeprecationWarning: Properties that return a naïve datetime object have been deprecated. Please switch to next_update_utc.\n",
      "  assert value.next_update is not None\n",
      "/Users/nishanshehadeh/opt/anaconda3/envs/WTP/lib/python3.12/site-packages/pymongo/ocsp_cache.py:101: CryptographyDeprecationWarning: Properties that return a naïve datetime object have been deprecated. Please switch to this_update_utc.\n",
      "  value.this_update\n",
      "/Users/nishanshehadeh/opt/anaconda3/envs/WTP/lib/python3.12/site-packages/pymongo/ocsp_cache.py:103: CryptographyDeprecationWarning: Properties that return a naïve datetime object have been deprecated. Please switch to next_update_utc.\n",
      "  < value.next_update\n",
      "2024-12-11 20:44:43,249 - INFO - Loaded 163 documents into MongoDB.\n"
     ]
    }
   ],
   "source": [
    "# Load data into MongoDB\n",
    "\n",
    "def load_into_mongo(data):\n",
    "    try:\n",
    "        collection = get_mongo_collection()\n",
    "        for doc in data:\n",
    "            collection.update_one(\n",
    "                {\"document_number\": doc[\"document_number\"]},\n",
    "                {\"$set\": doc},\n",
    "                upsert=True\n",
    "            )\n",
    "        logging.info(f\"Loaded {len(data)} documents into MongoDB.\")\n",
    "    except Exception as e:\n",
    "        logging.error(f\"Failed to load data into MongoDB: {e}\")\n",
    "        raise\n",
    "    \n",
    "load_into_mongo(transformed_data)\n"
   ]
  },
  {
   "cell_type": "code",
   "execution_count": null,
   "metadata": {},
   "outputs": [],
   "source": []
  }
 ],
 "metadata": {
  "kernelspec": {
   "display_name": "WTP",
   "language": "python",
   "name": "python3"
  },
  "language_info": {
   "codemirror_mode": {
    "name": "ipython",
    "version": 3
   },
   "file_extension": ".py",
   "mimetype": "text/x-python",
   "name": "python",
   "nbconvert_exporter": "python",
   "pygments_lexer": "ipython3",
   "version": "3.12.4"
  }
 },
 "nbformat": 4,
 "nbformat_minor": 2
}
