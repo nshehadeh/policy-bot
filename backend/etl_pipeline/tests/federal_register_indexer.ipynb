{
 "cells": [
  {
   "cell_type": "code",
   "execution_count": 24,
   "metadata": {},
   "outputs": [],
   "source": [
    "import os\n",
    "from pymongo import MongoClient\n",
    "from dotenv import load_dotenv\n",
    "import logging\n",
    "from langchain.text_splitter import RecursiveCharacterTextSplitter\n",
    "from langchain_openai import OpenAIEmbeddings\n",
    "from langchain_openai import ChatOpenAI\n",
    "from datetime import datetime\n",
    "\n",
    "# Load environment variables\n",
    "load_dotenv()\n",
    "\n",
    "# Logging Configuration\n",
    "logging.basicConfig(level=logging.INFO, format=\"%(asctime)s - %(levelname)s - %(message)s\")"
   ]
  },
  {
   "cell_type": "code",
   "execution_count": 25,
   "metadata": {},
   "outputs": [],
   "source": [
    "# MongoDB Connection\n",
    "def get_mongo_collection():\n",
    "    try:\n",
    "        connection_string = os.getenv('MONGO_CONNECTION_STRING')\n",
    "        client = MongoClient(connection_string)\n",
    "        db = client['govai']\n",
    "        logging.info(\"Connected to MongoDB successfully.\")\n",
    "        return db['test']\n",
    "    except Exception as e:\n",
    "        logging.error(f\"Failed to connect to MongoDB: {e}\")\n",
    "        raise"
   ]
  },
  {
   "cell_type": "code",
   "execution_count": 26,
   "metadata": {},
   "outputs": [
    {
     "name": "stderr",
     "output_type": "stream",
     "text": [
      "2024-12-11 20:45:20,118 - INFO - Connected to MongoDB successfully.\n",
      "/Users/nishanshehadeh/opt/anaconda3/envs/WTP/lib/python3.12/site-packages/pymongo/ocsp_support.py:280: CryptographyDeprecationWarning: Properties that return a naïve datetime object have been deprecated. Please switch to this_update_utc.\n",
      "  if response.this_update > now:\n",
      "/Users/nishanshehadeh/opt/anaconda3/envs/WTP/lib/python3.12/site-packages/pymongo/ocsp_support.py:284: CryptographyDeprecationWarning: Properties that return a naïve datetime object have been deprecated. Please switch to next_update_utc.\n",
      "  if response.next_update and response.next_update < now:\n",
      "/Users/nishanshehadeh/opt/anaconda3/envs/WTP/lib/python3.12/site-packages/pymongo/ocsp_cache.py:65: CryptographyDeprecationWarning: Properties that return a naïve datetime object have been deprecated. Please switch to next_update_utc.\n",
      "  if value.next_update is None:\n",
      "/Users/nishanshehadeh/opt/anaconda3/envs/WTP/lib/python3.12/site-packages/pymongo/ocsp_cache.py:71: CryptographyDeprecationWarning: Properties that return a naïve datetime object have been deprecated. Please switch to this_update_utc.\n",
      "  value.this_update\n",
      "/Users/nishanshehadeh/opt/anaconda3/envs/WTP/lib/python3.12/site-packages/pymongo/ocsp_cache.py:73: CryptographyDeprecationWarning: Properties that return a naïve datetime object have been deprecated. Please switch to next_update_utc.\n",
      "  < value.next_update\n",
      "/Users/nishanshehadeh/opt/anaconda3/envs/WTP/lib/python3.12/site-packages/pymongo/ocsp_cache.py:81: CryptographyDeprecationWarning: Properties that return a naïve datetime object have been deprecated. Please switch to next_update_utc.\n",
      "  cached_value.next_update is not None\n",
      "/Users/nishanshehadeh/opt/anaconda3/envs/WTP/lib/python3.12/site-packages/pymongo/ocsp_cache.py:82: CryptographyDeprecationWarning: Properties that return a naïve datetime object have been deprecated. Please switch to next_update_utc.\n",
      "  and cached_value.next_update < value.next_update\n",
      "/Users/nishanshehadeh/opt/anaconda3/envs/WTP/lib/python3.12/site-packages/pymongo/ocsp_cache.py:98: CryptographyDeprecationWarning: Properties that return a naïve datetime object have been deprecated. Please switch to this_update_utc.\n",
      "  assert value.this_update is not None\n",
      "/Users/nishanshehadeh/opt/anaconda3/envs/WTP/lib/python3.12/site-packages/pymongo/ocsp_cache.py:99: CryptographyDeprecationWarning: Properties that return a naïve datetime object have been deprecated. Please switch to next_update_utc.\n",
      "  assert value.next_update is not None\n",
      "/Users/nishanshehadeh/opt/anaconda3/envs/WTP/lib/python3.12/site-packages/pymongo/ocsp_cache.py:101: CryptographyDeprecationWarning: Properties that return a naïve datetime object have been deprecated. Please switch to this_update_utc.\n",
      "  value.this_update\n",
      "/Users/nishanshehadeh/opt/anaconda3/envs/WTP/lib/python3.12/site-packages/pymongo/ocsp_cache.py:103: CryptographyDeprecationWarning: Properties that return a naïve datetime object have been deprecated. Please switch to next_update_utc.\n",
      "  < value.next_update\n",
      "2024-12-11 20:45:21,557 - INFO - Found 163 unprocessed documents\n"
     ]
    }
   ],
   "source": [
    "# Get documents from MongoDB that haven't been processed\n",
    "collection = get_mongo_collection()\n",
    "documents = list(collection.find({\"processed_at\": None}))\n",
    "logging.info(f\"Found {len(documents)} unprocessed documents\")"
   ]
  },
  {
   "cell_type": "code",
   "execution_count": 27,
   "metadata": {},
   "outputs": [
    {
     "name": "stdout",
     "output_type": "stream",
     "text": [
      "Federal Register, Volume 89 Issue 234 (Thursday, December 5, 2024) [Federal Register Volume 89, Number 234 (Thursday, December 5, 2024)] [Presidential Documents] [Pages 96515-96516] From the Federal Register Online via the Government Publishing Office [www.gpo.gov] [FR Doc No: 2024-28714] \u0000 \u0000 \u0000 Presidential Documents \u0000 \u0000 \u0000\u0000Federal Register / Vol. 89, No. 234 / Thursday, December 5, 2024 / Presidential Documents\u0000\u0000 [[Page 96515]] Proclamation 10867 of November 29, 2024 World AIDS Day, 2024 By the President of the United States of America A Proclamation Our Nation has made enormous strides toward preventing, diagnosing, and treating HIV--a terrible disease that has stolen the precious lives of over 40 million people since the epidemic began in 1981. Despite our progress, over 39 million people worldwide continue to live with it, including over 1 million people in the United States. On World AIDS Day, we honor the memory of all those we tragically lost to HIV around the world. We stand in solidarity with all those who are courageously facing the disease today. And we renew our commitment to accelerating efforts to finally end the HIV/AIDS epidemic. My Administration has made historic progress toward addressing this fight. In my first year in office, I reestablished the White House Office of National AIDS Policy and launched a new National HIV/AIDS Strategy, to put us on the path to end this epidemic by 2030. To that end, the Health Resources and Services Administration committed nearly $10 billion in funding through the Ryan White HIV/AIDS Program to ensure that low-income individuals in America with HIV can receive the medication and quality care they need. The Department of Health and Human Services is also working to guarantee that Americans have access to HIV interventions like pre-exposure prophylaxis (PrEP) and self-tests to prevent HIV. And the Centers for Medicare and Medicaid Services has ensured that PrEP medications--including long-term injectable options-- and critical support services like counseling and screenings for HIV and hepatitis B are free for people with Medicare. Furthermore, the Centers for Disease Control and Prevention invested $10 million in a pilot program that covers the cost of PrEP to five health departments across the Nation--an important step toward ensuring everyone has access to this vital medication. Additionally, my Administration's investments in the Ending the HIV Epidemic in the United States initiative, which reaches over 50 jurisdictions, has helped decrease HIV incidence by 21 percent in the past year in those areas. At the same time, my Administration is working to fight the stigma surrounding HIV and to ensure that people with HIV do not face bias or discrimination--which too often stops people from getting life-saving care. I am proud that last year my Administration ended the shameful practice of banning gay and bisexual men from donating blood. We also released updates to the Rehabilitation Act that strengthen civil rights protections in medical settings for people with HIV. And I join advocates around the country in sharing the message of U=U, which stands for undetectable equals untransmittable, and makes clear that a person living with HIV who is on treatment and maintains an undetectable viral load has zero risk of transmitting HIV. We are committed to ensuring people understand the latest science about HIV transmission, testing, prevention, and care. And we are calling on States and community leaders to repeal or reform outdated HIV criminalization laws, so people are not wrongfully punished for exposing others to HIV without the intent to cause harm. Globally, my Administration is working with international partners to lead the global fight to end HIV/AIDS as a public health threat by 2030, including [[Page 96516]] through the President's Emergency Plan for AIDS Relief (PEPFAR) and our investments in the Global Fund to Fight AIDS, Tuberculosis, and Malaria. PEPFAR has saved more than 25 million lives in 55 countries by working to prevent HIV infections and expand access to HIV treatment and care services. In 2023, my Administration worked with the Congress to reauthorize PEPFAR for the fourth time ensuring that America continues to help build a future where HIV infections are prevented and every person has access to the treatment they need. This year, we also celebrate the 10th anniversary of the DREAMS (Determined, Resilient, Empowered, AIDS- Free, Mentored, and Safe) partnership, which has worked to lower HIV infections in adolescent girls and young women around the world. This year, on World AIDS Day, the AIDS Quilt which was first displayed on the National Mall in 1987, will be publicly displayed at the White House for the first time in our Nation's history. The Quilt is a memorial for all those we have lost to AIDS and AIDS-related illnesses. We also express our gratitude to the activists, scientists, doctors, and caregivers who have worked tirelessly to advance our Nation's progress in the fight against this epidemic. And we recommit as a Nation to shining a light on the struggle, strength, and resilience of people affected by HIV. Together, let this World AIDS Day be a moment of unity that rallies the country to give all those affected the care, hope, and support they deserve. NOW, THEREFORE, I, JOSEPH R. BIDEN JR., President of the United States of America, by virtue of the authority vested in me by the Constitution and the laws of the United States, do hereby proclaim December 1, 2024, as World AIDS Day. I urge the Governors of the United States and its Commonwealths and Territories, the appropriate officials of all units of government, and the American people to join the HIV community in activities to remember those who have lost their lives to AIDS and to provide support, dignity, and compassion to people with HIV. IN WITNESS WHEREOF, I have hereunto set my hand this twenty-ninth day of November, in the year of our Lord two thousand twenty-four, and of the Independence of the United States of America the two hundred and forty- ninth. (Presidential Sig.) [FR Doc. 2024-28714 Filed 12-4-24; 8:45 am] Billing code 3395-F4-P\n"
     ]
    }
   ],
   "source": [
    "print(documents[0]['raw_text'])"
   ]
  },
  {
   "cell_type": "code",
   "execution_count": 28,
   "metadata": {},
   "outputs": [
    {
     "ename": "SyntaxError",
     "evalue": "unterminated f-string literal (detected at line 6) (4289498910.py, line 6)",
     "output_type": "error",
     "traceback": [
      "\u001b[0;36m  Cell \u001b[0;32mIn[28], line 6\u001b[0;36m\u001b[0m\n\u001b[0;31m    prompt = f\"Craft a one paragraphsummary that is detailed, thorough, in-depth, and complex, while maintaining clarity and conciseness.\u001b[0m\n\u001b[0m             ^\u001b[0m\n\u001b[0;31mSyntaxError\u001b[0m\u001b[0;31m:\u001b[0m unterminated f-string literal (detected at line 6)\n"
     ]
    }
   ],
   "source": [
    "# Initialize LLM for summarization\n",
    "llm = ChatOpenAI(temperature=0, model=\"gpt-3.5-turbo-16k\")\n",
    "\n",
    "def generate_summary(text):\n",
    "    try:\n",
    "        prompt = f\"Craft a one paragraphsummary that is detailed, thorough, in-depth, and complex, while maintaining clarity and conciseness. \n",
    "        Incorporate main ideas and essential information, eliminating extraneous language and focusing on critical aspects. \n",
    "        Rely strictly on the provided text, without including external information. Format the summary in paragraph form for easy \n",
    "        understanding.\\n\\n{text}\"\n",
    "        response = llm.invoke(prompt)\n",
    "        return response.content\n",
    "    except Exception as e:\n",
    "        logging.error(f\"Error generating summary: {e}\")\n",
    "        return None\n",
    "# Generate summaries and update MongoDB\n",
    "\n",
    "#print(generate_summary(documents[0]['raw_text']))\n",
    "print(summary = generate_summary(documents[0]['raw_text']))\n",
    "\"\"\"\n",
    "for doc in documents:\n",
    "    if doc.get('raw_text') and not doc.get('summary'):\n",
    "        summary = generate_summary(doc['raw_text'])\n",
    "        if summary:\n",
    "            collection.update_one(\n",
    "                {\"_id\": doc[\"_id\"]},\n",
    "                {\"$set\": {\"summary\": summary}}\n",
    "            )\n",
    "            print(\"Updated\")\n",
    "            logging.info(f\"Added summary for document {doc.get('document_number')}\")\n",
    "\"\"\""
   ]
  },
  {
   "cell_type": "code",
   "execution_count": 7,
   "metadata": {},
   "outputs": [],
   "source": [
    "# Initialize text splitter for chunking\n",
    "text_splitter = RecursiveCharacterTextSplitter(\n",
    "    chunk_size=1000,\n",
    "    chunk_overlap=200,\n",
    "    length_function=len,\n",
    "    is_separator_regex=False,\n",
    ")\n",
    "\n",
    "# Initialize embeddings\n",
    "embeddings = OpenAIEmbeddings()\n",
    "\n",
    "# Process documents - chunking and embedding\n",
    "for doc in documents:\n",
    "    if doc.get('raw_text') and not doc.get('chunked'):\n",
    "        try:\n",
    "            # Create chunks\n",
    "            chunks = text_splitter.create_documents([doc['raw_text']])\n",
    "            \n",
    "            # Generate embeddings for each chunk\n",
    "            chunk_embeddings = []\n",
    "            for i, chunk in enumerate(chunks):\n",
    "                embedding = embeddings.embed_query(chunk.page_content)\n",
    "                chunk_embeddings.append({\n",
    "                    \"chunk_id\": i,\n",
    "                    \"text\": chunk.page_content,\n",
    "                    \"embedding\": embedding\n",
    "                })\n",
    "            \n",
    "            # Update MongoDB with chunks and embeddings\n",
    "            collection.update_one(\n",
    "                {\"_id\": doc[\"_id\"]},\n",
    "                {\n",
    "                    \"$set\": {\n",
    "                        \"chunks\": chunk_embeddings,\n",
    "                        \"chunked\": True,\n",
    "                        \"embedded\": True,\n",
    "                        \"processed_at\": datetime.utcnow()\n",
    "                    }\n",
    "                }\n",
    "            )\n",
    "            logging.info(f\"Processed document {doc.get('document_number')} with {len(chunks)} chunks\")\n",
    "            \n",
    "        except Exception as e:\n",
    "            logging.error(f\"Error processing document {doc.get('document_number')}: {e}\")\n",
    "            continue"
   ]
  },
  {
   "cell_type": "code",
   "execution_count": null,
   "metadata": {},
   "outputs": [],
   "source": []
  }
 ],
 "metadata": {
  "kernelspec": {
   "display_name": "WTP",
   "language": "python",
   "name": "python3"
  },
  "language_info": {
   "codemirror_mode": {
    "name": "ipython",
    "version": 3
   },
   "file_extension": ".py",
   "mimetype": "text/x-python",
   "name": "python",
   "nbconvert_exporter": "python",
   "pygments_lexer": "ipython3",
   "version": "3.12.4"
  }
 },
 "nbformat": 4,
 "nbformat_minor": 4
}
